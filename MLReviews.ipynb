{
  "nbformat": 4,
  "nbformat_minor": 0,
  "metadata": {
    "colab": {
      "name": "MLReviews.ipynb",
      "provenance": [],
      "collapsed_sections": [
        "aFNMnHEQmD9J",
        "hP7yDFirlGcm",
        "UPFcrilxmCyH",
        "G0v79srulXR_",
        "M1zPHP-orNl1",
        "aKLXmcdM26P7",
        "dqXANkDXx6ql",
        "grIOyQrr09X6",
        "W7UVsgZc1asV"
      ],
      "toc_visible": true
    },
    "kernelspec": {
      "name": "python3",
      "display_name": "Python 3"
    }
  },
  "cells": [
    {
      "cell_type": "code",
      "metadata": {
        "id": "_qp-9wTmm7lJ",
        "colab": {
          "base_uri": "https://localhost:8080/"
        },
        "outputId": "fc1f8c47-075c-4874-f5b8-a3c4d203fd94"
      },
      "source": [
        "print(dt.now(), \"keep instance running\")"
      ],
      "execution_count": 3,
      "outputs": [
        {
          "output_type": "stream",
          "text": [
            "2021-01-24 20:06:44.306583 keep instance running\n"
          ],
          "name": "stdout"
        }
      ]
    },
    {
      "cell_type": "code",
      "metadata": {
        "id": "pqo13sRMDhwk"
      },
      "source": [
        ""
      ],
      "execution_count": null,
      "outputs": []
    },
    {
      "cell_type": "markdown",
      "metadata": {
        "id": "aFNMnHEQmD9J"
      },
      "source": [
        "# SET UP"
      ]
    },
    {
      "cell_type": "markdown",
      "metadata": {
        "id": "hP7yDFirlGcm"
      },
      "source": [
        "## Imports"
      ]
    },
    {
      "cell_type": "code",
      "metadata": {
        "id": "h5gvo8HFlF9M",
        "colab": {
          "base_uri": "https://localhost:8080/"
        },
        "outputId": "e856bff6-f2bc-435b-8ba1-5bc43b39f3d9"
      },
      "source": [
        "from datetime import datetime as dt\r\n",
        "import json\r\n",
        "from json import JSONDecodeError\r\n",
        "import traceback\r\n",
        "\r\n",
        "import pandas as pd\r\n",
        "from pandas import DataFrame\r\n",
        "import numpy as np\r\n",
        "import matplotlib.pyplot as plt\r\n",
        "import math\r\n",
        "import random\r\n",
        "from sklearn.metrics import confusion_matrix , accuracy_score , roc_curve, roc_auc_score\r\n",
        "from sklearn.model_selection import train_test_split as split \r\n",
        "from sklearn.model_selection import KFold\r\n",
        "\r\n",
        "from sklearn.linear_model import LogisticRegression\r\n",
        "from sklearn.svm import SVC\r\n",
        "from sklearn.tree import DecisionTreeClassifier\r\n",
        "\r\n",
        "print(dt.now())"
      ],
      "execution_count": 2,
      "outputs": [
        {
          "output_type": "stream",
          "text": [
            "2021-01-24 20:06:36.365131\n"
          ],
          "name": "stdout"
        }
      ]
    },
    {
      "cell_type": "code",
      "metadata": {
        "id": "YlccrtKoDlRE",
        "outputId": "2ffdd02d-0cf5-442a-d3ac-3884205e16bf",
        "colab": {
          "base_uri": "https://localhost:8080/"
        }
      },
      "source": [
        "# from google.colab import drive\r\n",
        "# drive.mount('/content/drive')\r\n",
        "\r\n",
        "# !ls /content/gdrive\r\n",
        "# !ls -l /content/drive/My\\ Drive\r\n",
        "!ls -l /content/drive/My\\ Drive/4th_Year\r\n",
        "!ls -l /content/drive/My\\ Drive/4th_Year/ML_final_assignment\r\n",
        "!ls -l /content/drive/My\\ Drive/4th_Year/ML_final_assignment/token_split\r\n",
        "\r\n",
        "# titanic_known = pd.read_csv('/content/gdrive/My Drive/Colab Notebooks/Titanic/titanic_known.csv')\r\n",
        "# print (titanic_known.describe())\r\n",
        "# titanic_unknown = pd.read_csv('/content/gdrive/My Drive/Colab Notebooks/Titanic/titanic_unknown.csv')\r\n",
        "# print (titanic_unknown.describe())"
      ],
      "execution_count": 14,
      "outputs": [
        {
          "output_type": "stream",
          "text": [
            "total 4\n",
            "drwx------ 4 root root 4096 Jan 24 20:11 ML_final_assignment\n",
            "total 8\n",
            "drwx------ 2 root root 4096 Jan 24 20:13 results\n",
            "drwx------ 2 root root 4096 Jan 24 20:12 token_split\n",
            "total 3421\n",
            "-rw------- 1 root root 3502488 Jan 24 19:49 reviews_tfidf_1.json\n"
          ],
          "name": "stdout"
        }
      ]
    },
    {
      "cell_type": "markdown",
      "metadata": {
        "id": "UPFcrilxmCyH"
      },
      "source": [
        "## read/write\r\n"
      ]
    },
    {
      "cell_type": "code",
      "metadata": {
        "colab": {
          "base_uri": "https://localhost:8080/"
        },
        "id": "kBLo1v0FmJJB",
        "outputId": "f3287efb-77e3-49eb-b865-05b0d7803423"
      },
      "source": [
        "def read_f(path):\r\n",
        "    try:\r\n",
        "        f = open(path, \"r\")\r\n",
        "        s = f.read()\r\n",
        "        f.close()\r\n",
        "        return s\r\n",
        "    except FileNotFoundError:\r\n",
        "        print(\"file not found\")\r\n",
        "        return None\r\n",
        "    except Exception as e:\r\n",
        "        raise e\r\n",
        "#end\r\n",
        "\r\n",
        "def append_f(path, s):\r\n",
        "    f = open(path, \"a+\")\r\n",
        "    f.write(s)\r\n",
        "    f.close()\r\n",
        "    return\r\n",
        "#end\r\n",
        "\r\n",
        "def write_f(path, s):\r\n",
        "    f = open(path, \"w+\")\r\n",
        "    f.write(s)\r\n",
        "    f.close()\r\n",
        "    return\r\n",
        "#end\r\n",
        "\r\n",
        "def write_csv_1d(path, s_list):\r\n",
        "    s = \"\\n\".join(s_list)\r\n",
        "    write_f(path, s)\r\n",
        "    return\r\n",
        "#end\r\n",
        "\r\n",
        "def valid_json(path):\r\n",
        "    j = read_f(path)\r\n",
        "    try:\r\n",
        "        json.loads(j)\r\n",
        "        return True\r\n",
        "    except:\r\n",
        "        return False\r\n",
        "#end\r\n",
        "\r\n",
        "def print_i(i):\r\n",
        "    s = str(i)\r\n",
        "    if (i%50)==0:\r\n",
        "        s = \"\\n\" + s\r\n",
        "    print(s, end=\", \")\r\n",
        "    return i+1\r\n",
        "#end\r\n",
        "\r\n",
        "def date_str():\r\n",
        "    now = dt.now()\r\n",
        "    date = now.strftime(\"%d_%H_%M_%S\")\r\n",
        "    return date\r\n",
        "#end\r\n",
        "\r\n",
        "print(dt.now())"
      ],
      "execution_count": 4,
      "outputs": [
        {
          "output_type": "stream",
          "text": [
            "2021-01-24 20:13:42.273846\n"
          ],
          "name": "stdout"
        }
      ]
    },
    {
      "cell_type": "markdown",
      "metadata": {
        "id": "G0v79srulXR_"
      },
      "source": [
        "## Global Vars"
      ]
    },
    {
      "cell_type": "code",
      "metadata": {
        "colab": {
          "base_uri": "https://localhost:8080/"
        },
        "id": "F1odoYpulZ8_",
        "outputId": "37e01a2b-8d78-4aa6-f266-c6cffae4bb82"
      },
      "source": [
        "folder_path = \"/content/drive/MyDrive/4th_Year/ML_final_assignment/\"\r\n",
        "source_files_generic_path = folder_path + \"token_split/reviews_tfidf_1.json\"\r\n",
        "FILE_infix = [\"1\", \"2\", \"2stop\", \"3\", \"3stop\", \"1_2\", \"1_3\", \"2_3\", \"1_2_3\", \"1_2stop\", \"1_3stop\", \"2stop_3stop\", \"1_2stop_3stop\"]\r\n",
        "generic_results_path = folder_path + \"results/YTYPE_TIME.txt\"\r\n",
        "generic_plot_path = folder_path + \"results/PLOT_TIME.png\"\r\n",
        "print(dt.now())"
      ],
      "execution_count": 5,
      "outputs": [
        {
          "output_type": "stream",
          "text": [
            "2021-01-24 20:13:52.118337\n"
          ],
          "name": "stdout"
        }
      ]
    },
    {
      "cell_type": "markdown",
      "metadata": {
        "id": "M1zPHP-orNl1"
      },
      "source": [
        "### read in data"
      ]
    },
    {
      "cell_type": "code",
      "metadata": {
        "id": "tzfNviTfrRLM",
        "colab": {
          "base_uri": "https://localhost:8080/"
        },
        "outputId": "f6471b13-3b33-446b-d77a-90abd8a3d1e8"
      },
      "source": [
        "def read_in_json_file(file_path, printbool=False):\r\n",
        "    reviews_json = json.loads(read_f(file_path))\r\n",
        "    dfnan = DataFrame(reviews_json)\r\n",
        "    df = dfnan.fillna(0)\r\n",
        "    columns = df.columns.tolist()\r\n",
        "    columns = [col.strip() for col in columns]\r\n",
        "    parameter_list = (columns[2:]) # Get index column and all token columns\r\n",
        "\r\n",
        "    x = np.zeros(shape=(len(df.index), len(parameter_list)))\r\n",
        "    print(\"   \", dt.now(), \"dataframe to numpy array\", x.shape)\r\n",
        "    col_count = 0\r\n",
        "    for parameter_name in parameter_list:\r\n",
        "        if printbool: print(col_count, parameter_name)\r\n",
        "        feature_index = columns.index(parameter_name)\r\n",
        "        col = np.array(df.iloc[:,feature_index])\r\n",
        "        for i in range(len(col)):\r\n",
        "            x[i, col_count] = col[i]\r\n",
        "        col_count += 1\r\n",
        "        if col_count%1000 == 0:\r\n",
        "            print(\"     \", dt.now(), \"done\", col_count)\r\n",
        "    print(\"   \", dt.now(), \"finished numpyfying\")\r\n",
        "    y_voted = np.array(df.iloc[:,0])\r\n",
        "    y_access = np.array(df.iloc[:,1])\r\n",
        "    print(\"    x.shape:\", x.shape, \"-- y_voted:\", y_voted.shape, \"-- y_access:\", y_access.shape, \"\\n\")\r\n",
        "    return (x, y_voted, y_access)\r\n",
        "#end\r\n",
        "print(dt.now())"
      ],
      "execution_count": 6,
      "outputs": [
        {
          "output_type": "stream",
          "text": [
            "2021-01-24 20:14:05.913385\n"
          ],
          "name": "stdout"
        }
      ]
    },
    {
      "cell_type": "markdown",
      "metadata": {
        "id": "kgG-yzEmx1_r"
      },
      "source": [
        "# Cross Validation"
      ]
    },
    {
      "cell_type": "markdown",
      "metadata": {
        "id": "aKLXmcdM26P7"
      },
      "source": [
        "## general x-valid functions"
      ]
    },
    {
      "cell_type": "code",
      "metadata": {
        "colab": {
          "base_uri": "https://localhost:8080/"
        },
        "id": "NLGdHUfTzxB-",
        "outputId": "9bc5bce1-a170-414c-ec42-df0e8cc4ba21"
      },
      "source": [
        "def fig_path(title):\r\n",
        "    title = title.replace(\" \", \"_\").replace(\":\",\"\").replace(\"\\n\", \"\")\r\n",
        "    pth = generic_plot_path.replace(\"PLOT\", title).replace(\"TIME\", date_str())\r\n",
        "    return pth\r\n",
        "\r\n",
        "def calcMeanStdDev(array):\r\n",
        "    n = len(array)\r\n",
        "    mean = sum(array)/n\r\n",
        "    print(\"   mean=\", mean)\r\n",
        "    running_sum = 0\r\n",
        "    for x in array:\r\n",
        "        tmp = (x-mean)**2\r\n",
        "        running_sum += tmp\r\n",
        "    #end for\r\n",
        "    var = running_sum/(n-1)\r\n",
        "    stddev = math.sqrt(var)\r\n",
        "    print(\"   stddev=\", stddev)\r\n",
        "    return (mean, stddev)\r\n",
        "#end\r\n",
        "\r\n",
        "def plotErrBar(x, means, stddevs, title, x_axis, legendloc=\"upper left\", col=\"green\"):\r\n",
        "    # plots an error bar of means and standard deviations on the Y axis against a given X\r\n",
        "    x_np = np.array(x)\r\n",
        "    means_np = np.array(means)\r\n",
        "    err = np.array(stddevs)\r\n",
        "    errpoints = np.append(means_np+err, means_np-err)\r\n",
        "    x_np2 = np.append(x_np, x_np)\r\n",
        "\r\n",
        "    plt.rc(\"font\", size=18)\r\n",
        "    fig, ax = plt.subplots(figsize=(12,8))\r\n",
        "    ax.set_xlabel(x_axis)\r\n",
        "    ax.set_ylabel(\"mean misclassification error\")\r\n",
        "    plt.rc(\"font\", size=14)\r\n",
        "    plt.title(title)\r\n",
        "    ax.errorbar(x_np, means_np, yerr=err, ecolor=col, fmt='--x', label=\"standard dev\")\r\n",
        "    ax.scatter(x_np2, errpoints, color=col, marker='o', label=\"mean\")\r\n",
        "    ax.legend(loc=legendloc)\r\n",
        "    plt.savefig(fig_path(title))\r\n",
        "#end\r\n",
        "\r\n",
        "def plotMisclasses(X_axis, Y_all_misclass, legend=FILE_infix, legendloc=\"upper right\", x_label=\"C\", class_label = \"Token\", model_name=\"SVC\", output_type=\"voted_up\"):\r\n",
        "    # takes in X_axis (C/k values), Y_all_misclass, legend\r\n",
        "    # plots X_axis_C against Y[i,:] for all legend_poly[i]\r\n",
        "    fig, ax = plt.subplots(figsize=(12,8))\r\n",
        "    plt.rc(\"font\", size=18)\r\n",
        "    title= model_name + \" \" + output_type + \"\\nMisclass Rate \" + x_label + \" values by \" + class_label\r\n",
        "\r\n",
        "    # add scatter for each row in Y_all\r\n",
        "    cols = [\"#ff028d\", \"#a03623\", \"#02ab2e\", \"#fac205\", \"#bf77f6\", \"#13eac9\", \"#0165fc\", \"#430541\", \"#ae7181\", \"#1f6357\", \"#fe83cc\", \"#8d8468\", \"#ca0147\"]\r\n",
        "    for i in range(len(legend)):\r\n",
        "        print(\"i=\", i)\r\n",
        "        lab = (class_label + \"=\" + str(legend[i]).replace(\"_\", \",\"))\r\n",
        "        ax.scatter(X_axis, Y_all_misclass[i], color=cols[i], marker='o', label=lab)\r\n",
        "    #end for\r\n",
        "\r\n",
        "    ax.legend(loc=legendloc)\r\n",
        "    ax.set_xlabel(x_label)\r\n",
        "    ax.set_ylabel(\"Misclassification Score\")\r\n",
        "    plt.title(title)\r\n",
        "    plt.savefig(fig_path(title))\r\n",
        "    print(\"plotted\", title)\r\n",
        "#end plotXY()\r\n",
        "\r\n",
        "def confMatrix(actual, prediction):\r\n",
        "    # prints and returns matrix and accuracy\r\n",
        "    matrix = confusion_matrix(actual, prediction)\r\n",
        "    accuracy = accuracy_score(actual, prediction)\r\n",
        "    misclass = 1-accuracy\r\n",
        "    s = (\"Confusion Matrix=\\n\" + str(matrix) + \r\n",
        "            \"\\nAccurracy = \" + str(accuracy) +\r\n",
        "            \"\\nMisclass  = \" + str(misclass) )\r\n",
        "    print(\"      Misclassification = \", misclass)\r\n",
        "    return (s, matrix, accuracy, misclass)\r\n",
        "#end\r\n",
        "\r\n",
        "def applyKFold(model, X, y, results_path, f=5):\r\n",
        "    kfold = KFold(n_splits=f)\r\n",
        "    misclass_array = []\r\n",
        "    for train, test in kfold.split(y):\r\n",
        "        print(\"\\n   \", dt.now(), \"kfold\")\r\n",
        "        model.fit(X[train],y[train])\r\n",
        "        y_pred = model.predict(X[test])\r\n",
        "        (s, _, _, misclass) = confMatrix(y[test], y_pred)\r\n",
        "        if results_path is not None: append_f(results_path, (s+\"\\n\\n\"))\r\n",
        "        misclass_array.append(misclass)\r\n",
        "    #end for\r\n",
        "    return misclass_array\r\n",
        "#end\r\n",
        "\r\n",
        "print(dt.now())"
      ],
      "execution_count": 7,
      "outputs": [
        {
          "output_type": "stream",
          "text": [
            "2021-01-24 20:14:35.743276\n"
          ],
          "name": "stdout"
        }
      ]
    },
    {
      "cell_type": "markdown",
      "metadata": {
        "id": "dqXANkDXx6ql"
      },
      "source": [
        "## logistic regression and SVC L2 cross-validation"
      ]
    },
    {
      "cell_type": "code",
      "metadata": {
        "colab": {
          "base_uri": "https://localhost:8080/"
        },
        "id": "RfrhRlCXcW9t",
        "outputId": "2be6cab3-fd81-4098-fd25-35bdbea9c22e"
      },
      "source": [
        "def tokens_c_values_x_valid(train_voted=True, tokens=None, ModelType=SVC, model_str=\"SVC\", Cs=None, plot_logC=True, plot_errbar=False, results_path=None):\r\n",
        "    if Cs is None: Cs = [0.001, 0.01, 0.1, 1, 10]\r\n",
        "    if tokens is None: tokens = FILE_infix\r\n",
        "\r\n",
        "    if train_voted: output_type = \"voted_up\"\r\n",
        "    else: output_type = \"early_access\"\r\n",
        "    title = (model_str + \" \" + output_type + \"\\nTokens TT: C value CC\")\r\n",
        "\r\n",
        "    if plot_logC:\r\n",
        "        c_np = np.log10(Cs)\r\n",
        "        label = r'$log_{10}(C)$'\r\n",
        "    else:\r\n",
        "        c_np = np.array(Cs)\r\n",
        "        label = \"C\"\r\n",
        "\r\n",
        "    all_final_misclasses = []\r\n",
        "    for t in tokens:\r\n",
        "        t_title = title.replace(\"TT\", t)\r\n",
        "        print(\"\\n\\n       \", dt.now(), \":\", t_title, end=\" -- \")\r\n",
        "        means_t = []\r\n",
        "        stddevs_t = []\r\n",
        "        final_misclass_t = []\r\n",
        "        # get data\r\n",
        "        (X, y_voted, y_access) = read_in_json_file(source_files_generic_path.replace(\"INFIX\", t))\r\n",
        "        if train_voted: y = y_voted\r\n",
        "        else: y = y_access\r\n",
        "        print(X[:1],\"\\n\", X[1:])\r\n",
        "        print(X.shape)\r\n",
        "        for c in Cs:\r\n",
        "            print(dt.now(), c)\r\n",
        "            c_title = t_title.replace(\"CC\", str(c))\r\n",
        "            model = ModelType(C=c, max_iter=5000)\r\n",
        "            if results_path is not None: append_f(results_path, (\"\\n\\n\\n\"+ c_title + \"\\n\"))\r\n",
        "            misclass_array = applyKFold(model, X, y, results_path)\r\n",
        "            (mean_c, stddev_c) = calcMeanStdDev(misclass_array)\r\n",
        "            if results_path is not None:\r\n",
        "                s = (\"Mean    = \" + str(mean_c) + \"\\nStd Dev = \" + str(stddev_c))\r\n",
        "                append_f(results_path, (s+\"\\n\\n\"))\r\n",
        "            means_t.append(mean_c)\r\n",
        "            stddevs_t.append(stddev_c)\r\n",
        "            final_misclass_t.append(misclass_array[-1])\r\n",
        "        #end for\r\n",
        "        if plot_errbar:\r\n",
        "            title = (t_title.replace(\"C value CC\", \"Error Bars\"))\r\n",
        "            plotErrBar(c_np, means_t, stddevs_t, title, x_label=label)\r\n",
        "        all_final_misclasses.append(final_misclass_t)\r\n",
        "        #end if\r\n",
        "    #end for\r\n",
        "    plotMisclasses(c_np, all_final_misclasses, legend=tokens, x_label=label, model_name=model_str, output_type=output_type)\r\n",
        "    return\r\n",
        "#end\r\n",
        "\r\n",
        "def log_reg_x_valid(tokens=None, Cs=None, plot_logC=True, results_path=None, y_voted=True, plot_errbar=False):\r\n",
        "    tokens_c_values_x_valid(train_voted=y_voted, tokens=tokens, ModelType=LogisticRegression, \r\n",
        "                            model_str=\"LogisticRegression\", Cs=Cs, plot_logC=plot_logC, results_path=results_path)\r\n",
        "\r\n",
        "def svc_x_valid(tokens=None, Cs=None, plot_logC=None, results_path=None, y_voted=True, plot_errbar=False):\r\n",
        "    tokens_c_values_x_valid(train_voted=y_voted, tokens=tokens, ModelType=SVC, \r\n",
        "                            model_str=\"SVC\", Cs=Cs, plot_logC=plot_logC, results_path=results_path)\r\n",
        "print(dt.now())"
      ],
      "execution_count": 8,
      "outputs": [
        {
          "output_type": "stream",
          "text": [
            "2021-01-24 20:14:42.559709\n"
          ],
          "name": "stdout"
        }
      ]
    },
    {
      "cell_type": "markdown",
      "metadata": {
        "id": "121EQdEJynaJ"
      },
      "source": [
        "## Decision Tree cross-validation"
      ]
    },
    {
      "cell_type": "code",
      "metadata": {
        "id": "ND_kId6oLOVq",
        "colab": {
          "base_uri": "https://localhost:8080/"
        },
        "outputId": "65549a72-e21e-4ca2-c568-c552b608f94d"
      },
      "source": [
        "def get_features_value(all_features, feature_param):\r\n",
        "    if feature_param is None:\r\n",
        "        max_feats = all_features\r\n",
        "        feature_param = \"None\"\r\n",
        "    elif feature_param == \"sqrt\": max_feats = math.sqrt(all_features)\r\n",
        "    elif feature_param == \"log2\": max_feats = math.log2(all_features)\r\n",
        "    else: \r\n",
        "        max_feats = (feature_param*all_features)\r\n",
        "        feature_param = str(feature_param)\r\n",
        "    max_feats = math.ceil(max_feats)\r\n",
        "    ft_str = (str(max_feats) + \" (\" + feature_param + \")\")\r\n",
        "    return (max_feats, ft_str)\r\n",
        "\r\n",
        "def dec_tree_x_valid(train_voted=True, tokens=None, max_feat=None, plot_errbar=True, results_path=None):\r\n",
        "    if max_feat is None: max_feat = [None, \"sqrt\", \"log2\", 0.1, 0.25, 0.5, 0.75, 0.9]\r\n",
        "    if tokens is None: tokens = FILE_infix\r\n",
        "\r\n",
        "    if train_voted: output_type = \"voted_up\"\r\n",
        "    else: output_type = \"early_access\"\r\n",
        "    title = (\"DecisionTree \" + output_type + \"\\nTokens TT: max_features MAX\")\r\n",
        "\r\n",
        "    all_final_misclasses = []\r\n",
        "    for t in tokens:\r\n",
        "        t_title = title.replace(\"TT\", t)\r\n",
        "        print(\"\\n\\n       \", dt.now(), \":\", t_title)\r\n",
        "        means_t = []\r\n",
        "        stddevs_t = []\r\n",
        "        final_misclass_t = []\r\n",
        "        # get data\r\n",
        "        (X, y_voted, y_access) = read_in_json_file(source_files_generic_path.replace(\"INFIX\", t))\r\n",
        "        if train_voted: y = y_voted\r\n",
        "        else: y = y_access\r\n",
        "        print(X[:1],\"\\n\", X[1:])\r\n",
        "        print(X.shape)\r\n",
        "        (_, x_feat) = X.shape\r\n",
        "        feat_values = []\r\n",
        "        for feat in max_feat:\r\n",
        "            (ft_val, ft_str) = get_features_value(x_feat, feat)\r\n",
        "            feat_values.append(ft_val)\r\n",
        "            print(dt.now(), ft_str)\r\n",
        "            l_title = t_title.replace(\"MAX\", ft_str)\r\n",
        "            model = DecisionTreeClassifier(max_features=feat)\r\n",
        "\r\n",
        "            if results_path is not None: append_f(results_path, (\"\\n\\n\\n\"+ l_title + \"\\n\"))\r\n",
        "            misclass_array = applyKFold(model, X, y, results_path)\r\n",
        "            (mean_c, stddev_c) = calcMeanStdDev(misclass_array)\r\n",
        "            if results_path is not None:\r\n",
        "                s = (\"Mean    = \" + str(mean_c) + \"\\nStd Dev = \" + str(stddev_c))\r\n",
        "                append_f(results_path, (s+\"\\n\\n\"))\r\n",
        "            means_t.append(mean_c)\r\n",
        "            stddevs_t.append(stddev_c)\r\n",
        "            final_misclass_t.append(misclass_array[-1])\r\n",
        "        #end for\r\n",
        "        if plot_errbar:\r\n",
        "            eb_title = (t_title.replace(\"max_features MAX\", \"Error Bars\"))\r\n",
        "            try: plotErrBar(feat_values, means_t, stddevs_t, eb_title, x_label=\"max_features\")\r\n",
        "            except Exception as e:\r\n",
        "                print(\"\\nCould not plot error bars:\", e, \"\\n\")\r\n",
        "                continue\r\n",
        "        all_final_misclasses.append(final_misclass_t)\r\n",
        "        #end if\r\n",
        "    #end for\r\n",
        "    s = \"Misclassification Array\\n[\"\r\n",
        "    for row in all_final_misclasses:\r\n",
        "        s = s + \"    [\" + \", \".join(row) + \"]\\n\"\r\n",
        "    s = s+\"]\"\r\n",
        "    if results_path is not None: append_f(results_path, (\"\\n\\n\\n\"+ all_final_misclasses))\r\n",
        "    # plotMisclasses(plot_max_feat, all_final_misclasses, legend=tokens, x_label=\"min_samples_leaf\", model_name=\"DecisionTreeClassifier\", output_type=output_type)\r\n",
        "    return\r\n",
        "#end\r\n",
        "\r\n",
        "\r\n",
        "print(dt.now())"
      ],
      "execution_count": 9,
      "outputs": [
        {
          "output_type": "stream",
          "text": [
            "2021-01-24 20:14:53.230624\n"
          ],
          "name": "stdout"
        }
      ]
    },
    {
      "cell_type": "markdown",
      "metadata": {
        "id": "xojLUsxiDGgo"
      },
      "source": [
        "## RUN X-VALIDATION"
      ]
    },
    {
      "cell_type": "code",
      "metadata": {
        "colab": {
          "base_uri": "https://localhost:8080/",
          "height": 354
        },
        "id": "tYosLenwDKMP",
        "outputId": "610e11f9-20c9-474c-864f-add32f3fdc00"
      },
      "source": [
        "def cross_validate(voted=True, model=\"Logistic\", tokens=None, values=None):\r\n",
        "    if voted: output = \"voted_up\"\r\n",
        "    else: output = \"early_access\"\r\n",
        "    results_path = generic_results_path.replace(\"YTYPE\", (output+\"_\"+model)).replace(\"TIME\", date_str())\r\n",
        "    print(results_path)\r\n",
        "    write_f(results_path, \"\")\r\n",
        "    if model==\"SVC\": svc_x_valid(results_path=results_path, y_voted=voted, tokens=tokens, Cs=values)\r\n",
        "    elif model==\"Logistic\": log_reg_x_valid(results_path=results_path, y_voted=voted, tokens=tokens, Cs=values)\r\n",
        "    elif model==\"Decision\": dec_tree_x_valid(results_path=results_path, train_voted=voted, tokens=tokens, max_feat=values)\r\n",
        "    else: print(\"not valid model:  \", model)\r\n",
        "    print(\"finished\")\r\n",
        "\r\n",
        "#cross_validate(model=\"Logistic\")\r\n",
        "#cross_validate(model=\"SVC\")\r\n",
        "cross_validate(model=\"Decision\")"
      ],
      "execution_count": 10,
      "outputs": [
        {
          "output_type": "stream",
          "text": [
            "/content/drive/MyDrive/4th_Year/ML_final_assignment/results/voted_up_Decision_24_20_15_07.txt\n"
          ],
          "name": "stdout"
        },
        {
          "output_type": "error",
          "ename": "FileNotFoundError",
          "evalue": "ignored",
          "traceback": [
            "\u001b[0;31m---------------------------------------------------------------------------\u001b[0m",
            "\u001b[0;31mFileNotFoundError\u001b[0m                         Traceback (most recent call last)",
            "\u001b[0;32m<ipython-input-10-031dfca4e04d>\u001b[0m in \u001b[0;36m<module>\u001b[0;34m()\u001b[0m\n\u001b[1;32m     13\u001b[0m \u001b[0;31m#cross_validate(model=\"Logistic\")\u001b[0m\u001b[0;34m\u001b[0m\u001b[0;34m\u001b[0m\u001b[0;34m\u001b[0m\u001b[0m\n\u001b[1;32m     14\u001b[0m \u001b[0;31m#cross_validate(model=\"SVC\")\u001b[0m\u001b[0;34m\u001b[0m\u001b[0;34m\u001b[0m\u001b[0;34m\u001b[0m\u001b[0m\n\u001b[0;32m---> 15\u001b[0;31m \u001b[0mcross_validate\u001b[0m\u001b[0;34m(\u001b[0m\u001b[0mmodel\u001b[0m\u001b[0;34m=\u001b[0m\u001b[0;34m\"Decision\"\u001b[0m\u001b[0;34m)\u001b[0m\u001b[0;34m\u001b[0m\u001b[0;34m\u001b[0m\u001b[0m\n\u001b[0m",
            "\u001b[0;32m<ipython-input-10-031dfca4e04d>\u001b[0m in \u001b[0;36mcross_validate\u001b[0;34m(voted, model, tokens, values)\u001b[0m\n\u001b[1;32m      4\u001b[0m     \u001b[0mresults_path\u001b[0m \u001b[0;34m=\u001b[0m \u001b[0mgeneric_results_path\u001b[0m\u001b[0;34m.\u001b[0m\u001b[0mreplace\u001b[0m\u001b[0;34m(\u001b[0m\u001b[0;34m\"YTYPE\"\u001b[0m\u001b[0;34m,\u001b[0m \u001b[0;34m(\u001b[0m\u001b[0moutput\u001b[0m\u001b[0;34m+\u001b[0m\u001b[0;34m\"_\"\u001b[0m\u001b[0;34m+\u001b[0m\u001b[0mmodel\u001b[0m\u001b[0;34m)\u001b[0m\u001b[0;34m)\u001b[0m\u001b[0;34m.\u001b[0m\u001b[0mreplace\u001b[0m\u001b[0;34m(\u001b[0m\u001b[0;34m\"TIME\"\u001b[0m\u001b[0;34m,\u001b[0m \u001b[0mdate_str\u001b[0m\u001b[0;34m(\u001b[0m\u001b[0;34m)\u001b[0m\u001b[0;34m)\u001b[0m\u001b[0;34m\u001b[0m\u001b[0;34m\u001b[0m\u001b[0m\n\u001b[1;32m      5\u001b[0m     \u001b[0mprint\u001b[0m\u001b[0;34m(\u001b[0m\u001b[0mresults_path\u001b[0m\u001b[0;34m)\u001b[0m\u001b[0;34m\u001b[0m\u001b[0;34m\u001b[0m\u001b[0m\n\u001b[0;32m----> 6\u001b[0;31m     \u001b[0mwrite_f\u001b[0m\u001b[0;34m(\u001b[0m\u001b[0mresults_path\u001b[0m\u001b[0;34m,\u001b[0m \u001b[0;34m\"\"\u001b[0m\u001b[0;34m)\u001b[0m\u001b[0;34m\u001b[0m\u001b[0;34m\u001b[0m\u001b[0m\n\u001b[0m\u001b[1;32m      7\u001b[0m     \u001b[0;32mif\u001b[0m \u001b[0mmodel\u001b[0m\u001b[0;34m==\u001b[0m\u001b[0;34m\"SVC\"\u001b[0m\u001b[0;34m:\u001b[0m \u001b[0msvc_x_valid\u001b[0m\u001b[0;34m(\u001b[0m\u001b[0mresults_path\u001b[0m\u001b[0;34m=\u001b[0m\u001b[0mresults_path\u001b[0m\u001b[0;34m,\u001b[0m \u001b[0my_voted\u001b[0m\u001b[0;34m=\u001b[0m\u001b[0mvoted\u001b[0m\u001b[0;34m,\u001b[0m \u001b[0mtokens\u001b[0m\u001b[0;34m=\u001b[0m\u001b[0mtokens\u001b[0m\u001b[0;34m,\u001b[0m \u001b[0mCs\u001b[0m\u001b[0;34m=\u001b[0m\u001b[0mvalues\u001b[0m\u001b[0;34m)\u001b[0m\u001b[0;34m\u001b[0m\u001b[0;34m\u001b[0m\u001b[0m\n\u001b[1;32m      8\u001b[0m     \u001b[0;32melif\u001b[0m \u001b[0mmodel\u001b[0m\u001b[0;34m==\u001b[0m\u001b[0;34m\"Logistic\"\u001b[0m\u001b[0;34m:\u001b[0m \u001b[0mlog_reg_x_valid\u001b[0m\u001b[0;34m(\u001b[0m\u001b[0mresults_path\u001b[0m\u001b[0;34m=\u001b[0m\u001b[0mresults_path\u001b[0m\u001b[0;34m,\u001b[0m \u001b[0my_voted\u001b[0m\u001b[0;34m=\u001b[0m\u001b[0mvoted\u001b[0m\u001b[0;34m,\u001b[0m \u001b[0mtokens\u001b[0m\u001b[0;34m=\u001b[0m\u001b[0mtokens\u001b[0m\u001b[0;34m,\u001b[0m \u001b[0mCs\u001b[0m\u001b[0;34m=\u001b[0m\u001b[0mvalues\u001b[0m\u001b[0;34m)\u001b[0m\u001b[0;34m\u001b[0m\u001b[0;34m\u001b[0m\u001b[0m\n",
            "\u001b[0;32m<ipython-input-4-5d2b28ee914f>\u001b[0m in \u001b[0;36mwrite_f\u001b[0;34m(path, s)\u001b[0m\n\u001b[1;32m     20\u001b[0m \u001b[0;34m\u001b[0m\u001b[0m\n\u001b[1;32m     21\u001b[0m \u001b[0;32mdef\u001b[0m \u001b[0mwrite_f\u001b[0m\u001b[0;34m(\u001b[0m\u001b[0mpath\u001b[0m\u001b[0;34m,\u001b[0m \u001b[0ms\u001b[0m\u001b[0;34m)\u001b[0m\u001b[0;34m:\u001b[0m\u001b[0;34m\u001b[0m\u001b[0;34m\u001b[0m\u001b[0m\n\u001b[0;32m---> 22\u001b[0;31m     \u001b[0mf\u001b[0m \u001b[0;34m=\u001b[0m \u001b[0mopen\u001b[0m\u001b[0;34m(\u001b[0m\u001b[0mpath\u001b[0m\u001b[0;34m,\u001b[0m \u001b[0;34m\"w+\"\u001b[0m\u001b[0;34m)\u001b[0m\u001b[0;34m\u001b[0m\u001b[0;34m\u001b[0m\u001b[0m\n\u001b[0m\u001b[1;32m     23\u001b[0m     \u001b[0mf\u001b[0m\u001b[0;34m.\u001b[0m\u001b[0mwrite\u001b[0m\u001b[0;34m(\u001b[0m\u001b[0ms\u001b[0m\u001b[0;34m)\u001b[0m\u001b[0;34m\u001b[0m\u001b[0;34m\u001b[0m\u001b[0m\n\u001b[1;32m     24\u001b[0m     \u001b[0mf\u001b[0m\u001b[0;34m.\u001b[0m\u001b[0mclose\u001b[0m\u001b[0;34m(\u001b[0m\u001b[0;34m)\u001b[0m\u001b[0;34m\u001b[0m\u001b[0;34m\u001b[0m\u001b[0m\n",
            "\u001b[0;31mFileNotFoundError\u001b[0m: [Errno 2] No such file or directory: '/content/drive/MyDrive/4th_Year/ML_final_assignment/results/voted_up_Decision_24_20_15_07.txt'"
          ]
        }
      ]
    },
    {
      "cell_type": "code",
      "metadata": {
        "id": "f06nlBZuAhFL"
      },
      "source": [
        ""
      ],
      "execution_count": null,
      "outputs": []
    },
    {
      "cell_type": "markdown",
      "metadata": {
        "id": "grIOyQrr09X6"
      },
      "source": [
        "# General Functions"
      ]
    },
    {
      "cell_type": "markdown",
      "metadata": {
        "id": "W7UVsgZc1asV"
      },
      "source": [
        "## run models"
      ]
    },
    {
      "cell_type": "code",
      "metadata": {
        "id": "9yZuhKu402iB"
      },
      "source": [
        "def trainLogReg(X, y, C):\r\n",
        "    model = LogisticRegression(penalty=\"l2\", C=C)"
      ],
      "execution_count": null,
      "outputs": []
    },
    {
      "cell_type": "markdown",
      "metadata": {
        "id": "OSUVrR9X03k_"
      },
      "source": [
        "# Run Voted_Up"
      ]
    },
    {
      "cell_type": "code",
      "metadata": {
        "colab": {
          "base_uri": "https://localhost:8080/"
        },
        "id": "MjvyFr-P306U",
        "outputId": "c6b17570-3c6c-4383-8244-caf2e2f9e625"
      },
      "source": [
        ""
      ],
      "execution_count": null,
      "outputs": [
        {
          "output_type": "stream",
          "text": [
            "/content/drive/MyDrive/4th_Year/ML_final_assignment/results/voted_up_23_16_05_59.txt\n",
            "\n",
            "\n",
            "        2021-01-23 16:05:59.491074 : LogisticRegression voted_up\n",
            "Tokens 1: C value CC --     2021-01-23 16:06:05.524425 dataframe to numpy array (4791, 6252)\n",
            "      2021-01-23 16:06:06.999792 done 1000\n",
            "      2021-01-23 16:06:08.500665 done 2000\n",
            "      2021-01-23 16:06:10.000960 done 3000\n",
            "      2021-01-23 16:06:11.516687 done 4000\n",
            "      2021-01-23 16:06:13.111979 done 5000\n",
            "      2021-01-23 16:06:14.688132 done 6000\n",
            "    2021-01-23 16:06:15.095580 finished numpyfying\n",
            "    x.shape: (4791, 6252) -- y_voted: (4791,) -- y_access: (4791,) \n",
            "\n",
            "[[  10.92684516   10.41597967 1002.53804348 ...    0.\n",
            "     0.            0.        ]] \n",
            " [[  0.           0.           0.         ...   0.           0.\n",
            "    0.        ]\n",
            " [  0.           0.           0.         ...   0.           0.\n",
            "    0.        ]\n",
            " [  0.           0.           0.         ...   0.           0.\n",
            "    0.        ]\n",
            " ...\n",
            " [  0.           0.56302593   0.         ... 216.76498237 216.76498237\n",
            "  216.76498237]\n",
            " [  0.           0.           0.         ...   0.           0.\n",
            "    0.        ]\n",
            " [  0.           0.           0.         ...   0.           0.\n",
            "    0.        ]]\n",
            "(4791, 6252)\n",
            "2021-01-23 16:06:15.104991 0.001\n",
            "\n",
            "    2021-01-23 16:06:15.109150 kfold\n",
            "      Misclassification =  0.4775808133472367\n",
            "\n",
            "    2021-01-23 16:07:32.151186 kfold\n",
            "      Misclassification =  0.4530271398747391\n",
            "\n",
            "    2021-01-23 16:09:49.519920 kfold\n",
            "      Misclassification =  0.3475991649269311\n",
            "\n",
            "    2021-01-23 16:12:01.644920 kfold\n",
            "      Misclassification =  0.3935281837160751\n",
            "\n",
            "    2021-01-23 16:13:12.519588 kfold\n",
            "      Misclassification =  0.40814196242171186\n",
            "   mean= 0.4159754528573387\n",
            "   stddev= 0.05101129327750146\n",
            "2021-01-23 16:13:56.596378 0.01\n",
            "\n",
            "    2021-01-23 16:13:56.599463 kfold\n"
          ],
          "name": "stdout"
        }
      ]
    },
    {
      "cell_type": "markdown",
      "metadata": {
        "id": "-v4k9eZH1CDC"
      },
      "source": [
        "# Run Early_Access"
      ]
    }
  ]
}