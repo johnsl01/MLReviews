{
  "nbformat": 4,
  "nbformat_minor": 0,
  "metadata": {
    "colab": {
      "name": "MLReviews.ipynb",
      "provenance": [],
      "collapsed_sections": [
        "aFNMnHEQmD9J",
        "hP7yDFirlGcm",
        "UPFcrilxmCyH",
        "G0v79srulXR_",
        "M1zPHP-orNl1",
        "aKLXmcdM26P7",
        "dqXANkDXx6ql",
        "grIOyQrr09X6",
        "W7UVsgZc1asV"
      ],
      "toc_visible": true
    },
    "kernelspec": {
      "name": "python3",
      "display_name": "Python 3"
    }
  },
  "cells": [
    {
      "cell_type": "code",
      "metadata": {
        "id": "_qp-9wTmm7lJ",
        "colab": {
          "base_uri": "https://localhost:8080/"
        },
        "outputId": "eb8ac336-c750-476d-8ee2-8f939375adb6"
      },
      "source": [
        "print(dt.now(), \"keep instance running\")"
      ],
      "execution_count": null,
      "outputs": [
        {
          "output_type": "stream",
          "text": [
            "2021-01-23 14:18:55.853404 keep instance running\n"
          ],
          "name": "stdout"
        }
      ]
    },
    {
      "cell_type": "markdown",
      "metadata": {
        "id": "aFNMnHEQmD9J"
      },
      "source": [
        "# SET UP"
      ]
    },
    {
      "cell_type": "markdown",
      "metadata": {
        "id": "hP7yDFirlGcm"
      },
      "source": [
        "## Imports"
      ]
    },
    {
      "cell_type": "code",
      "metadata": {
        "id": "h5gvo8HFlF9M",
        "colab": {
          "base_uri": "https://localhost:8080/"
        },
        "outputId": "b1a91861-7426-470e-c3b5-98c78caf9135"
      },
      "source": [
        "from datetime import datetime as dt\r\n",
        "import json\r\n",
        "from json import JSONDecodeError\r\n",
        "import traceback\r\n",
        "\r\n",
        "import pandas as pd\r\n",
        "from pandas import DataFrame\r\n",
        "import numpy as np\r\n",
        "import matplotlib.pyplot as plt\r\n",
        "import math\r\n",
        "import random\r\n",
        "from sklearn.metrics import confusion_matrix , accuracy_score , roc_curve, roc_auc_score\r\n",
        "from sklearn.model_selection import train_test_split as split \r\n",
        "from sklearn.model_selection import KFold\r\n",
        "\r\n",
        "from sklearn.linear_model import LogisticRegression\r\n",
        "from sklearn.svm import SVC\r\n",
        "from sklearn.tree import DecisionTreeClassifier\r\n",
        "\r\n",
        "print(dt.now())"
      ],
      "execution_count": 10,
      "outputs": [
        {
          "output_type": "stream",
          "text": [
            "2021-01-23 20:43:49.930882\n"
          ],
          "name": "stdout"
        }
      ]
    },
    {
      "cell_type": "markdown",
      "metadata": {
        "id": "UPFcrilxmCyH"
      },
      "source": [
        "## read/write\r\n"
      ]
    },
    {
      "cell_type": "code",
      "metadata": {
        "colab": {
          "base_uri": "https://localhost:8080/"
        },
        "id": "kBLo1v0FmJJB",
        "outputId": "82b1590b-8841-4bcd-ad2d-434e14bde85b"
      },
      "source": [
        "def read_f(path):\r\n",
        "    try:\r\n",
        "        f = open(path, \"r\")\r\n",
        "        s = f.read()\r\n",
        "        f.close()\r\n",
        "        return s\r\n",
        "    except FileNotFoundError:\r\n",
        "        print(\"file not found\")\r\n",
        "        return None\r\n",
        "    except Exception as e:\r\n",
        "        raise e\r\n",
        "#end\r\n",
        "\r\n",
        "def append_f(path, s):\r\n",
        "    f = open(path, \"a+\")\r\n",
        "    f.write(s)\r\n",
        "    f.close()\r\n",
        "    return\r\n",
        "#end\r\n",
        "\r\n",
        "def write_f(path, s):\r\n",
        "    f = open(path, \"w+\")\r\n",
        "    f.write(s)\r\n",
        "    f.close()\r\n",
        "    return\r\n",
        "#end\r\n",
        "\r\n",
        "def write_csv_1d(path, s_list):\r\n",
        "    s = \"\\n\".join(s_list)\r\n",
        "    write_f(path, s)\r\n",
        "    return\r\n",
        "#end\r\n",
        "\r\n",
        "def valid_json(path):\r\n",
        "    j = read_f(path)\r\n",
        "    try:\r\n",
        "        json.loads(j)\r\n",
        "        return True\r\n",
        "    except:\r\n",
        "        return False\r\n",
        "#end\r\n",
        "\r\n",
        "def print_i(i):\r\n",
        "    s = str(i)\r\n",
        "    if (i%50)==0:\r\n",
        "        s = \"\\n\" + s\r\n",
        "    print(s, end=\", \")\r\n",
        "    return i+1\r\n",
        "#end\r\n",
        "\r\n",
        "def date_str():\r\n",
        "    now = dt.now()\r\n",
        "    date = now.strftime(\"%d_%H_%M_%S\")\r\n",
        "    return date\r\n",
        "#end\r\n",
        "\r\n",
        "print(dt.now())"
      ],
      "execution_count": 11,
      "outputs": [
        {
          "output_type": "stream",
          "text": [
            "2021-01-23 20:43:50.297333\n"
          ],
          "name": "stdout"
        }
      ]
    },
    {
      "cell_type": "markdown",
      "metadata": {
        "id": "G0v79srulXR_"
      },
      "source": [
        "## Global Vars"
      ]
    },
    {
      "cell_type": "code",
      "metadata": {
        "colab": {
          "base_uri": "https://localhost:8080/"
        },
        "id": "F1odoYpulZ8_",
        "outputId": "d8c5989e-9de3-4685-96e5-89c70a9bf926"
      },
      "source": [
        "folder_path = \"/content/drive/MyDrive/4th_Year/ML_final_assignment/\"\r\n",
        "source_files_generic_path = folder_path + \"token_split/reviews_tfidf_INFIX.json\"\r\n",
        "FILE_infix = [\"1\", \"2\", \"2stop\", \"3\", \"3stop\", \"1_2\", \"1_3\", \"2_3\", \"1_2_3\", \"1_2stop\", \"1_3stop\", \"2stop_3stop\", \"1_2stop_3stop\"]\r\n",
        "generic_results_path = folder_path + \"results/YTYPE_TIME.txt\"\r\n",
        "generic_plot_path = folder_path + \"results/PLOT_TIME.png\"\r\n",
        "print(dt.now())"
      ],
      "execution_count": 17,
      "outputs": [
        {
          "output_type": "stream",
          "text": [
            "2021-01-23 20:55:42.511720\n"
          ],
          "name": "stdout"
        }
      ]
    },
    {
      "cell_type": "markdown",
      "metadata": {
        "id": "M1zPHP-orNl1"
      },
      "source": [
        "### read in data"
      ]
    },
    {
      "cell_type": "code",
      "metadata": {
        "id": "tzfNviTfrRLM",
        "colab": {
          "base_uri": "https://localhost:8080/"
        },
        "outputId": "49bc7d9d-6976-462e-c89b-09a2b191c4ed"
      },
      "source": [
        "def read_in_json_file(file_path, printbool=False):\r\n",
        "    reviews_json = json.loads(read_f(file_path))\r\n",
        "    dfnan = DataFrame(reviews_json)\r\n",
        "    df = dfnan.fillna(0)\r\n",
        "    columns = df.columns.tolist()\r\n",
        "    columns = [col.strip() for col in columns]\r\n",
        "    parameter_list = (columns[2:]) # Get index column and all token columns\r\n",
        "\r\n",
        "    x = np.zeros(shape=(len(df.index), len(parameter_list)))\r\n",
        "    print(\"   \", dt.now(), \"dataframe to numpy array\", x.shape)\r\n",
        "    col_count = 0\r\n",
        "    for parameter_name in parameter_list:\r\n",
        "        if printbool: print(col_count, parameter_name)\r\n",
        "        feature_index = columns.index(parameter_name)\r\n",
        "        col = np.array(df.iloc[:,feature_index])\r\n",
        "        for i in range(len(col)):\r\n",
        "            x[i, col_count] = col[i]\r\n",
        "        col_count += 1\r\n",
        "        if col_count%1000 == 0:\r\n",
        "            print(\"     \", dt.now(), \"done\", col_count)\r\n",
        "    print(\"   \", dt.now(), \"finished numpyfying\")\r\n",
        "    y_voted = np.array(df.iloc[:,0])\r\n",
        "    y_access = np.array(df.iloc[:,1])\r\n",
        "    print(\"    x.shape:\", x.shape, \"-- y_voted:\", y_voted.shape, \"-- y_access:\", y_access.shape, \"\\n\")\r\n",
        "    return (x, y_voted, y_access)\r\n",
        "#end\r\n",
        "print(dt.now())"
      ],
      "execution_count": 18,
      "outputs": [
        {
          "output_type": "stream",
          "text": [
            "2021-01-23 20:55:47.636449\n"
          ],
          "name": "stdout"
        }
      ]
    },
    {
      "cell_type": "markdown",
      "metadata": {
        "id": "kgG-yzEmx1_r"
      },
      "source": [
        "# Cross Validation"
      ]
    },
    {
      "cell_type": "markdown",
      "metadata": {
        "id": "aKLXmcdM26P7"
      },
      "source": [
        "## general x-valid functions"
      ]
    },
    {
      "cell_type": "code",
      "metadata": {
        "colab": {
          "base_uri": "https://localhost:8080/"
        },
        "id": "NLGdHUfTzxB-",
        "outputId": "66d4aa4e-fc2c-4d66-85d6-9e2d30183526"
      },
      "source": [
        "def fig_path(title):\r\n",
        "    title = title.replace(\" \", \"_\").replace(\":\",\"\").replace(\"\\n\", \"\")\r\n",
        "    pth = generic_plot_path.replace(\"PLOT\", title).replace(\"TIME\", date_str())\r\n",
        "    return pth\r\n",
        "\r\n",
        "def calcMeanStdDev(array):\r\n",
        "    n = len(array)\r\n",
        "    mean = sum(array)/n\r\n",
        "    print(\"   mean=\", mean)\r\n",
        "    running_sum = 0\r\n",
        "    for x in array:\r\n",
        "        tmp = (x-mean)**2\r\n",
        "        running_sum += tmp\r\n",
        "    #end for\r\n",
        "    var = running_sum/(n-1)\r\n",
        "    stddev = math.sqrt(var)\r\n",
        "    print(\"   stddev=\", stddev)\r\n",
        "    return (mean, stddev)\r\n",
        "#end\r\n",
        "\r\n",
        "def plotErrBar(x, means, stddevs, title, x_axis, legendloc=\"upper left\", col=\"green\"):\r\n",
        "    # plots an error bar of means and standard deviations on the Y axis against a given X\r\n",
        "    x_np = np.array(x)\r\n",
        "    means_np = np.array(means)\r\n",
        "    err = np.array(stddevs)\r\n",
        "    errpoints = np.append(means_np+err, means_np-err)\r\n",
        "    x_np2 = np.append(x_np, x_np)\r\n",
        "\r\n",
        "    plt.rc(\"font\", size=18)\r\n",
        "    fig, ax = plt.subplots(figsize=(12,8))\r\n",
        "    ax.set_xlabel(x_axis)\r\n",
        "    ax.set_ylabel(\"mean misclassification error\")\r\n",
        "    plt.rc(\"font\", size=14)\r\n",
        "    plt.title(title)\r\n",
        "    ax.errorbar(x_np, means_np, yerr=err, ecolor=col, fmt='--x', label=\"standard dev\")\r\n",
        "    ax.scatter(x_np2, errpoints, color=col, marker='o', label=\"mean\")\r\n",
        "    ax.legend(loc=legendloc)\r\n",
        "    plt.savefig(fig_path(title))\r\n",
        "#end\r\n",
        "\r\n",
        "def plotMisclasses(X_axis, Y_all_misclass, legend=FILE_infix, legendloc=\"upper right\", x_label=\"C\", class_label = \"Token\", model_name=\"SVC\", output_type=\"voted_up\"):\r\n",
        "    # takes in X_axis (C/k values), Y_all_misclass, legend\r\n",
        "    # plots X_axis_C against Y[i,:] for all legend_poly[i]\r\n",
        "    fig, ax = plt.subplots(figsize=(12,8))\r\n",
        "    plt.rc(\"font\", size=18)\r\n",
        "    title= model_name + \" \" + output_type + \"\\nMisclass Rate \" + x_label + \" values by \" + class_label\r\n",
        "\r\n",
        "    # add scatter for each row in Y_all\r\n",
        "    cols = [\"#ff028d\", \"#a03623\", \"#02ab2e\", \"#fac205\", \"#bf77f6\", \"#13eac9\", \"#0165fc\", \"#430541\", \"#ae7181\", \"#1f6357\", \"#fe83cc\", \"#8d8468\", \"#ca0147\"]\r\n",
        "    for i in range(len(legend)):\r\n",
        "        print(\"i=\", i)\r\n",
        "        lab = (class_label + \"=\" + str(legend[i]).replace(\"_\", \",\"))\r\n",
        "        ax.scatter(X_axis, Y_all_misclass[i], color=cols[i], marker='o', label=lab)\r\n",
        "    #end for\r\n",
        "\r\n",
        "    ax.legend(loc=legendloc)\r\n",
        "    ax.set_xlabel(x_label)\r\n",
        "    ax.set_ylabel(\"Misclassification Score\")\r\n",
        "    plt.title(title)\r\n",
        "    plt.savefig(fig_path(title))\r\n",
        "    print(\"plotted\", title)\r\n",
        "#end plotXY()\r\n",
        "\r\n",
        "def confMatrix(actual, prediction):\r\n",
        "    # prints and returns matrix and accuracy\r\n",
        "    matrix = confusion_matrix(actual, prediction)\r\n",
        "    accuracy = accuracy_score(actual, prediction)\r\n",
        "    misclass = 1-accuracy\r\n",
        "    s = (\"Confusion Matrix=\\n\" + str(matrix) + \r\n",
        "            \"\\nAccurracy = \" + str(accuracy) +\r\n",
        "            \"\\nMisclass  = \" + str(misclass) )\r\n",
        "    print(\"      Misclassification = \", misclass)\r\n",
        "    return (s, matrix, accuracy, misclass)\r\n",
        "#end\r\n",
        "\r\n",
        "def applyKFold(model, X, y, results_path, f=5):\r\n",
        "    kfold = KFold(n_splits=f)\r\n",
        "    misclass_array = []\r\n",
        "    for train, test in kfold.split(y):\r\n",
        "        print(\"\\n   \", dt.now(), \"kfold\")\r\n",
        "        model.fit(X[train],y[train])\r\n",
        "        y_pred = model.predict(X[test])\r\n",
        "        (s, _, _, misclass) = confMatrix(y[test], y_pred)\r\n",
        "        if results_path is not None: append_f(results_path, (s+\"\\n\\n\"))\r\n",
        "        misclass_array.append(misclass)\r\n",
        "    #end for\r\n",
        "    return misclass_array\r\n",
        "#end\r\n",
        "\r\n",
        "print(dt.now())"
      ],
      "execution_count": 19,
      "outputs": [
        {
          "output_type": "stream",
          "text": [
            "2021-01-23 20:56:14.436435\n"
          ],
          "name": "stdout"
        }
      ]
    },
    {
      "cell_type": "markdown",
      "metadata": {
        "id": "dqXANkDXx6ql"
      },
      "source": [
        "## logistic regression and SVC L2 cross-validation"
      ]
    },
    {
      "cell_type": "code",
      "metadata": {
        "colab": {
          "base_uri": "https://localhost:8080/"
        },
        "id": "RfrhRlCXcW9t",
        "outputId": "8bb833b9-2f3d-4b4a-db4a-278180769cc8"
      },
      "source": [
        "def tokens_c_values_x_valid(train_voted=True, tokens=None, ModelType=SVC, model_str=\"SVC\", Cs=None, plot_logC=True, plot_errbar=False, results_path=None):\r\n",
        "    if Cs is None: Cs = [0.001, 0.01, 0.1, 1, 10]\r\n",
        "    if tokens is None: tokens = FILE_infix\r\n",
        "\r\n",
        "    if train_voted: output_type = \"voted_up\"\r\n",
        "    else: output_type = \"early_access\"\r\n",
        "    title = (model_str + \" \" + output_type + \"\\nTokens TT: C value CC\")\r\n",
        "\r\n",
        "    if plot_logC:\r\n",
        "        c_np = np.log10(Cs)\r\n",
        "        label = r'$log_{10}(C)$'\r\n",
        "    else:\r\n",
        "        c_np = np.array(Cs)\r\n",
        "        label = \"C\"\r\n",
        "\r\n",
        "    all_final_misclasses = []\r\n",
        "    for t in tokens:\r\n",
        "        t_title = title.replace(\"TT\", t)\r\n",
        "        print(\"\\n\\n       \", dt.now(), \":\", t_title, end=\" -- \")\r\n",
        "        means_t = []\r\n",
        "        stddevs_t = []\r\n",
        "        final_misclass_t = []\r\n",
        "        # get data\r\n",
        "        (X, y_voted, y_access) = read_in_json_file(source_files_generic_path.replace(\"INFIX\", t))\r\n",
        "        if train_voted: y = y_voted\r\n",
        "        else: y = y_access\r\n",
        "        print(X[:1],\"\\n\", X[1:])\r\n",
        "        print(X.shape)\r\n",
        "        for c in Cs:\r\n",
        "            print(dt.now(), c)\r\n",
        "            c_title = t_title.replace(\"CC\", str(c))\r\n",
        "            model = ModelType(C=c, max_iter=5000)\r\n",
        "            if results_path is not None: append_f(results_path, (\"\\n\\n\\n\"+ c_title + \"\\n\"))\r\n",
        "            misclass_array = applyKFold(model, X, y, results_path)\r\n",
        "            (mean_c, stddev_c) = calcMeanStdDev(misclass_array)\r\n",
        "            if results_path is not None:\r\n",
        "                s = (\"Mean    = \" + str(mean_c) + \"\\nStd Dev = \" + str(stddev_c))\r\n",
        "                append_f(results_path, (s+\"\\n\\n\"))\r\n",
        "            means_t.append(mean_c)\r\n",
        "            stddevs_t.append(stddev_c)\r\n",
        "            final_misclass_t.append(misclass_array[-1])\r\n",
        "        #end for\r\n",
        "        if plot_errbar:\r\n",
        "            title = (t_title.replace(\"C value CC\", \"Error Bars\"))\r\n",
        "            plotErrBar(c_np, means_t, stddevs_t, title, x_label=label)\r\n",
        "        all_final_misclasses.append(final_misclass_t)\r\n",
        "        #end if\r\n",
        "    #end for\r\n",
        "    plotMisclasses(c_np, all_final_misclasses, legend=tokens, x_label=label, model_name=model_str, output_type=output_type)\r\n",
        "    return\r\n",
        "#end\r\n",
        "\r\n",
        "def log_reg_x_valid(tokens=None, Cs=None, plot_logC=True, results_path=None, y_voted=True, plot_errbar=False):\r\n",
        "    tokens_c_values_x_valid(train_voted=y_voted, tokens=tokens, ModelType=LogisticRegression, \r\n",
        "                            model_str=\"LogisticRegression\", Cs=Cs, plot_logC=plot_logC, results_path=results_path)\r\n",
        "\r\n",
        "def svc_x_valid(tokens=None, Cs=None, plot_logC=None, results_path=None, y_voted=True, plot_errbar=False):\r\n",
        "    tokens_c_values_x_valid(train_voted=y_voted, tokens=tokens, ModelType=SVC, \r\n",
        "                            model_str=\"SVC\", Cs=Cs, plot_logC=plot_logC, results_path=results_path)\r\n",
        "print(dt.now())"
      ],
      "execution_count": 7,
      "outputs": [
        {
          "output_type": "stream",
          "text": [
            "2021-01-23 17:00:05.208121\n"
          ],
          "name": "stdout"
        }
      ]
    },
    {
      "cell_type": "markdown",
      "metadata": {
        "id": "121EQdEJynaJ"
      },
      "source": [
        "## Decision Tree cross-validation"
      ]
    },
    {
      "cell_type": "code",
      "metadata": {
        "id": "ND_kId6oLOVq",
        "colab": {
          "base_uri": "https://localhost:8080/"
        },
        "outputId": "3b535813-6362-4759-d5cb-62e8c6cc7e79"
      },
      "source": [
        "def get_features_value(all_features, feature_param):\r\n",
        "    if feature_param is None:\r\n",
        "        max_feats = all_features\r\n",
        "        feature_param = \"None\"\r\n",
        "    elif feature_param == \"sqrt\": max_feats = math.sqrt(all_features)\r\n",
        "    elif feature_param == \"log2\": max_feats = math.log2(all_features)\r\n",
        "    else: \r\n",
        "        max_feats = (feature_param*all_features)\r\n",
        "        feature_param = str(feature_param)\r\n",
        "    max_feats = math.ceil(max_feats)\r\n",
        "    ft_str = (str(max_feats) + \" (\" + feature_param + \")\")\r\n",
        "    return (max_feats, ft_str)\r\n",
        "\r\n",
        "def dec_tree_x_valid(train_voted=True, tokens=None, max_feat=None, plot_errbar=True, results_path=None):\r\n",
        "    if max_feat is None: max_feat = [None, \"sqrt\", \"log2\", 0.1, 0.25, 0.5, 0.75, 0.9]\r\n",
        "    if tokens is None: tokens = FILE_infix\r\n",
        "\r\n",
        "    if train_voted: output_type = \"voted_up\"\r\n",
        "    else: output_type = \"early_access\"\r\n",
        "    title = (\"DecisionTree \" + output_type + \"\\nTokens TT: max_features MAX\")\r\n",
        "\r\n",
        "    all_final_misclasses = []\r\n",
        "    for t in tokens:\r\n",
        "        t_title = title.replace(\"TT\", t)\r\n",
        "        print(\"\\n\\n       \", dt.now(), \":\", t_title)\r\n",
        "        means_t = []\r\n",
        "        stddevs_t = []\r\n",
        "        final_misclass_t = []\r\n",
        "        # get data\r\n",
        "        (X, y_voted, y_access) = read_in_json_file(source_files_generic_path.replace(\"INFIX\", t))\r\n",
        "        if train_voted: y = y_voted\r\n",
        "        else: y = y_access\r\n",
        "        print(X[:1],\"\\n\", X[1:])\r\n",
        "        print(X.shape)\r\n",
        "        (_, x_feat) = X.shape\r\n",
        "        feat_values = []\r\n",
        "        for feat in max_feat:\r\n",
        "            (ft_val, ft_str) = get_features_value(x_feat, feat)\r\n",
        "            feat_values.append(ft_val)\r\n",
        "            print(dt.now(), ft_str)\r\n",
        "            l_title = t_title.replace(\"MAX\", ft_str)\r\n",
        "            model = DecisionTreeClassifier(max_features=feat)\r\n",
        "\r\n",
        "            if results_path is not None: append_f(results_path, (\"\\n\\n\\n\"+ l_title + \"\\n\"))\r\n",
        "            misclass_array = applyKFold(model, X, y, results_path)\r\n",
        "            (mean_c, stddev_c) = calcMeanStdDev(misclass_array)\r\n",
        "            if results_path is not None:\r\n",
        "                s = (\"Mean    = \" + str(mean_c) + \"\\nStd Dev = \" + str(stddev_c))\r\n",
        "                append_f(results_path, (s+\"\\n\\n\"))\r\n",
        "            means_t.append(mean_c)\r\n",
        "            stddevs_t.append(stddev_c)\r\n",
        "            final_misclass_t.append(misclass_array[-1])\r\n",
        "        #end for\r\n",
        "        if plot_errbar:\r\n",
        "            eb_title = (t_title.replace(\"max_features MAX\", \"Error Bars\"))\r\n",
        "            try: plotErrBar(feat_values, means_t, stddevs_t, eb_title, x_label=\"max_features\")\r\n",
        "            except Exception as e:\r\n",
        "                print(\"\\nCould not plot error bars:\", e, \"\\n\")\r\n",
        "                continue\r\n",
        "        all_final_misclasses.append(final_misclass_t)\r\n",
        "        #end if\r\n",
        "    #end for\r\n",
        "    s = \"Misclassification Array\\n[\"\r\n",
        "    for row in all_final_misclasses:\r\n",
        "        s = s + \"    [\" + \", \".join(row) + \"]\\n\"\r\n",
        "    s = s+\"]\"\r\n",
        "    if results_path is not None: append_f(results_path, (\"\\n\\n\\n\"+ all_final_misclasses))\r\n",
        "    # plotMisclasses(plot_max_feat, all_final_misclasses, legend=tokens, x_label=\"min_samples_leaf\", model_name=\"DecisionTreeClassifier\", output_type=output_type)\r\n",
        "    return\r\n",
        "#end\r\n",
        "\r\n",
        "\r\n",
        "print(dt.now())"
      ],
      "execution_count": 20,
      "outputs": [
        {
          "output_type": "stream",
          "text": [
            "2021-01-23 20:56:17.779900\n"
          ],
          "name": "stdout"
        }
      ]
    },
    {
      "cell_type": "markdown",
      "metadata": {
        "id": "xojLUsxiDGgo"
      },
      "source": [
        "## RUN X-VALIDATION"
      ]
    },
    {
      "cell_type": "code",
      "metadata": {
        "colab": {
          "base_uri": "https://localhost:8080/"
        },
        "id": "tYosLenwDKMP",
        "outputId": "547bba56-bccb-4a4c-f97d-ff4c47bb7e81"
      },
      "source": [
        "def cross_validate(voted=True, model=\"Logistic\", tokens=None, values=None):\r\n",
        "    if voted: output = \"voted_up\"\r\n",
        "    else: output = \"early_access\"\r\n",
        "    results_path = generic_results_path.replace(\"YTYPE\", (output+\"_\"+model)).replace(\"TIME\", date_str())\r\n",
        "    print(results_path)\r\n",
        "    write_f(results_path, \"\")\r\n",
        "    if model==\"SVC\": svc_x_valid(results_path=results_path, y_voted=voted, tokens=tokens, Cs=values)\r\n",
        "    elif model==\"Logistic\": log_reg_x_valid(results_path=results_path, y_voted=voted, tokens=tokens, Cs=values)\r\n",
        "    elif model==\"Decision\": dec_tree_x_valid(results_path=results_path, train_voted=voted, tokens=tokens, max_feat=values)\r\n",
        "    else: print(\"not valid model:  \", model)\r\n",
        "    print(\"finished\")\r\n",
        "\r\n",
        "#cross_validate(model=\"Logistic\")\r\n",
        "#cross_validate(model=\"SVC\")\r\n",
        "cross_validate(model=\"Decision\")"
      ],
      "execution_count": null,
      "outputs": [
        {
          "output_type": "stream",
          "text": [
            "/content/drive/MyDrive/4th_Year/ML_final_assignment/results/voted_up_Decision_23_20_56_20.txt\n",
            "\n",
            "\n",
            "        2021-01-23 20:56:20.792183 : DecisionTree voted_up\n",
            "Tokens 1: max_features MAX\n",
            "    2021-01-23 20:56:28.444248 dataframe to numpy array (4791, 6252)\n",
            "      2021-01-23 20:56:29.959717 done 1000\n",
            "      2021-01-23 20:56:31.468098 done 2000\n",
            "      2021-01-23 20:56:33.072789 done 3000\n",
            "      2021-01-23 20:56:34.697322 done 4000\n",
            "      2021-01-23 20:56:36.313592 done 5000\n",
            "      2021-01-23 20:56:37.893596 done 6000\n",
            "    2021-01-23 20:56:38.318148 finished numpyfying\n",
            "    x.shape: (4791, 6252) -- y_voted: (4791,) -- y_access: (4791,) \n",
            "\n",
            "[[  10.92684516   10.41597967 1002.53804348 ...    0.\n",
            "     0.            0.        ]] \n",
            " [[  0.           0.           0.         ...   0.           0.\n",
            "    0.        ]\n",
            " [  0.           0.           0.         ...   0.           0.\n",
            "    0.        ]\n",
            " [  0.           0.           0.         ...   0.           0.\n",
            "    0.        ]\n",
            " ...\n",
            " [  0.           0.56302593   0.         ... 216.76498237 216.76498237\n",
            "  216.76498237]\n",
            " [  0.           0.           0.         ...   0.           0.\n",
            "    0.        ]\n",
            " [  0.           0.           0.         ...   0.           0.\n",
            "    0.        ]]\n",
            "(4791, 6252)\n",
            "2021-01-23 20:56:38.328121 6252 (None)\n",
            "\n",
            "    2021-01-23 20:56:38.333150 kfold\n",
            "      Misclassification =  0.38373305526590196\n",
            "\n",
            "    2021-01-23 20:56:51.387178 kfold\n",
            "      Misclassification =  0.40501043841336115\n",
            "\n",
            "    2021-01-23 20:57:02.719983 kfold\n",
            "      Misclassification =  0.3048016701461378\n",
            "\n",
            "    2021-01-23 20:57:12.465582 kfold\n",
            "      Misclassification =  0.430062630480167\n",
            "\n",
            "    2021-01-23 20:57:21.131050 kfold\n",
            "      Misclassification =  0.44363256784968685\n",
            "   mean= 0.393448072431051\n",
            "   stddev= 0.05464742433372743\n",
            "2021-01-23 20:57:30.925693 80 (sqrt)\n",
            "\n",
            "    2021-01-23 20:57:30.928451 kfold\n",
            "      Misclassification =  0.47340980187695514\n",
            "\n",
            "    2021-01-23 20:57:31.443170 kfold\n",
            "      Misclassification =  0.47494780793319413\n",
            "\n",
            "    2021-01-23 20:57:31.939402 kfold\n",
            "      Misclassification =  0.29540709812108557\n",
            "\n",
            "    2021-01-23 20:57:32.423368 kfold\n",
            "      Misclassification =  0.4530271398747391\n",
            "\n",
            "    2021-01-23 20:57:32.891240 kfold\n",
            "      Misclassification =  0.4519832985386222\n",
            "   mean= 0.42975502926891923\n",
            "   stddev= 0.07588343051242552\n",
            "2021-01-23 20:57:33.433553 13 (log2)\n",
            "\n",
            "    2021-01-23 20:57:33.436557 kfold\n",
            "      Misclassification =  0.5099061522419186\n",
            "\n",
            "    2021-01-23 20:57:33.769089 kfold\n",
            "      Misclassification =  0.5271398747390397\n",
            "\n",
            "    2021-01-23 20:57:34.083026 kfold\n",
            "      Misclassification =  0.40709812108559496\n",
            "\n",
            "    2021-01-23 20:57:34.399545 kfold\n",
            "      Misclassification =  0.48851774530271397\n",
            "\n",
            "    2021-01-23 20:57:34.744985 kfold\n",
            "      Misclassification =  0.5177453027139876\n",
            "   mean= 0.4900814392166509\n",
            "   stddev= 0.04852914706698713\n",
            "2021-01-23 20:57:35.098188 626 (0.1)\n",
            "\n",
            "    2021-01-23 20:57:35.101942 kfold\n",
            "      Misclassification =  0.4337851929092805\n",
            "\n",
            "    2021-01-23 20:57:36.454523 kfold\n",
            "      Misclassification =  0.44572025052192066\n",
            "\n",
            "    2021-01-23 20:57:37.935405 kfold\n",
            "      Misclassification =  0.3152400835073069\n",
            "\n",
            "    2021-01-23 20:57:39.112143 kfold\n",
            "      Misclassification =  0.4331941544885177\n",
            "\n",
            "    2021-01-23 20:57:40.437479 kfold\n",
            "      Misclassification =  0.40292275574112735\n",
            "   mean= 0.40617248743363066\n",
            "   stddev= 0.053235139708868576\n",
            "2021-01-23 20:57:41.859129 1563 (0.25)\n",
            "\n",
            "    2021-01-23 20:57:41.863167 kfold\n",
            "      Misclassification =  0.39833159541188734\n",
            "\n",
            "    2021-01-23 20:57:45.779617 kfold\n",
            "      Misclassification =  0.4342379958246346\n",
            "\n",
            "    2021-01-23 20:57:48.940055 kfold\n",
            "      Misclassification =  0.2995824634655533\n",
            "\n",
            "    2021-01-23 20:57:51.675748 kfold\n",
            "      Misclassification =  0.430062630480167\n",
            "\n",
            "    2021-01-23 20:57:54.272173 kfold\n",
            "      Misclassification =  0.4248434237995825\n",
            "   mean= 0.397411621796365\n",
            "   stddev= 0.056449456428852664\n",
            "2021-01-23 20:57:57.377596 3126 (0.5)\n",
            "\n",
            "    2021-01-23 20:57:57.380843 kfold\n",
            "      Misclassification =  0.40354535974973926\n",
            "\n",
            "    2021-01-23 20:58:04.460470 kfold\n",
            "      Misclassification =  0.40605427974947805\n",
            "\n",
            "    2021-01-23 20:58:09.821123 kfold\n",
            "      Misclassification =  0.3152400835073069\n",
            "\n",
            "    2021-01-23 20:58:14.553421 kfold\n",
            "      Misclassification =  0.4331941544885177\n",
            "\n",
            "    2021-01-23 20:58:20.151471 kfold\n",
            "      Misclassification =  0.4175365344467641\n",
            "   mean= 0.3951140823883612\n",
            "   stddev= 0.04616136994544202\n",
            "2021-01-23 20:58:26.138664 4689 (0.75)\n",
            "\n",
            "    2021-01-23 20:58:26.141923 kfold\n",
            "      Misclassification =  0.4087591240875912\n",
            "\n",
            "    2021-01-23 20:58:37.144785 kfold\n",
            "      Misclassification =  0.40605427974947805\n",
            "\n",
            "    2021-01-23 20:58:45.746317 kfold\n",
            "      Misclassification =  0.33194154488517746\n",
            "\n",
            "    2021-01-23 20:58:52.334804 kfold\n",
            "      Misclassification =  0.4206680584551148\n",
            "\n",
            "    2021-01-23 20:58:59.381843 kfold\n",
            "      Misclassification =  0.4206680584551148\n",
            "   mean= 0.39761821312649526\n",
            "   stddev= 0.03732057946943335\n",
            "2021-01-23 20:59:08.015292 5627 (0.9)\n",
            "\n",
            "    2021-01-23 20:59:08.019060 kfold\n",
            "      Misclassification =  0.41293013555787283\n",
            "\n",
            "    2021-01-23 20:59:22.014011 kfold\n",
            "      Misclassification =  0.4290187891440501\n",
            "\n",
            "    2021-01-23 20:59:33.170409 kfold\n",
            "      Misclassification =  0.29645093945720247\n",
            "\n",
            "    2021-01-23 20:59:42.762814 kfold\n",
            "      Misclassification =  0.43528183716075153\n",
            "\n",
            "    2021-01-23 20:59:50.584164 kfold\n",
            "      Misclassification =  0.454070981210856\n",
            "   mean= 0.4055505365061466\n",
            "   stddev= 0.06274177881053412\n",
            "\n",
            "Could not plot error bars: plotErrBar() got an unexpected keyword argument 'x_label' \n",
            "\n",
            "\n",
            "\n",
            "        2021-01-23 21:00:00.087540 : DecisionTree voted_up\n",
            "Tokens 2: max_features MAX\n",
            "    2021-01-23 21:00:16.591622 dataframe to numpy array (4103, 18239)\n",
            "      2021-01-23 21:00:17.894934 done 1000\n",
            "      2021-01-23 21:00:19.264257 done 2000\n",
            "      2021-01-23 21:00:20.595225 done 3000\n",
            "      2021-01-23 21:00:21.953701 done 4000\n",
            "      2021-01-23 21:00:23.315265 done 5000\n",
            "      2021-01-23 21:00:24.717181 done 6000\n",
            "      2021-01-23 21:00:26.141264 done 7000\n",
            "      2021-01-23 21:00:27.593972 done 8000\n",
            "      2021-01-23 21:00:29.084932 done 9000\n",
            "      2021-01-23 21:00:30.585996 done 10000\n",
            "      2021-01-23 21:00:32.110719 done 11000\n",
            "      2021-01-23 21:00:33.670780 done 12000\n",
            "      2021-01-23 21:00:35.194967 done 13000\n",
            "      2021-01-23 21:00:36.756933 done 14000\n",
            "      2021-01-23 21:00:38.388776 done 15000\n",
            "      2021-01-23 21:00:40.088785 done 16000\n",
            "      2021-01-23 21:00:41.765182 done 17000\n",
            "      2021-01-23 21:00:43.417809 done 18000\n",
            "    2021-01-23 21:00:43.823756 finished numpyfying\n",
            "    x.shape: (4103, 18239) -- y_voted: (4103,) -- y_access: (4103,) \n",
            "\n",
            "[[ 36.94794239 399.03777778   6.59566575 ...   0.           0.\n",
            "    0.        ]] \n",
            " [[  0.           0.           0.         ...   0.           0.\n",
            "    0.        ]\n",
            " [  0.           0.           0.         ...   0.           0.\n",
            "    0.        ]\n",
            " [  0.           0.           0.         ...   0.           0.\n",
            "    0.        ]\n",
            " ...\n",
            " [  0.           0.           1.04754691 ... 211.25529412 211.25529412\n",
            "  211.25529412]\n",
            " [  0.           0.           0.         ...   0.           0.\n",
            "    0.        ]\n",
            " [  0.           0.           0.         ...   0.           0.\n",
            "    0.        ]]\n",
            "(4103, 18239)\n",
            "2021-01-23 21:00:43.834356 18239 (None)\n",
            "\n",
            "    2021-01-23 21:00:43.844021 kfold\n",
            "      Misclassification =  0.535931790499391\n",
            "\n",
            "    2021-01-23 21:02:30.463153 kfold\n",
            "      Misclassification =  0.5420219244823385\n",
            "\n",
            "    2021-01-23 21:03:54.643327 kfold\n",
            "      Misclassification =  0.33739342265529837\n",
            "\n",
            "    2021-01-23 21:04:38.393230 kfold\n",
            "      Misclassification =  0.5390243902439025\n",
            "\n",
            "    2021-01-23 21:05:30.550853 kfold\n",
            "      Misclassification =  0.5195121951219512\n",
            "   mean= 0.4947767446005763\n",
            "   stddev= 0.08840963113399661\n",
            "2021-01-23 21:06:23.597614 136 (sqrt)\n",
            "\n",
            "    2021-01-23 21:06:23.601360 kfold\n",
            "      Misclassification =  0.5663824604141291\n",
            "\n",
            "    2021-01-23 21:06:25.006153 kfold\n",
            "      Misclassification =  0.559074299634592\n",
            "\n",
            "    2021-01-23 21:06:26.312189 kfold\n",
            "      Misclassification =  0.3751522533495737\n",
            "\n",
            "    2021-01-23 21:06:27.593588 kfold\n",
            "      Misclassification =  0.5621951219512196\n",
            "\n",
            "    2021-01-23 21:06:28.926301 kfold\n",
            "      Misclassification =  0.55\n",
            "   mean= 0.5225608270699029\n",
            "   stddev= 0.08262360796978181\n",
            "2021-01-23 21:06:30.300741 15 (log2)\n",
            "\n",
            "    2021-01-23 21:06:30.304466 kfold\n",
            "      Misclassification =  0.6382460414129111\n",
            "\n",
            "    2021-01-23 21:06:31.001927 kfold\n",
            "      Misclassification =  0.584652862362972\n",
            "\n",
            "    2021-01-23 21:06:31.660445 kfold\n",
            "      Misclassification =  0.40925700365408035\n",
            "\n",
            "    2021-01-23 21:06:32.380464 kfold\n",
            "      Misclassification =  0.6560975609756098\n",
            "\n",
            "    2021-01-23 21:06:33.094085 kfold\n",
            "      Misclassification =  0.6402439024390244\n",
            "   mean= 0.5856994741689194\n",
            "   stddev= 0.10225601181365143\n",
            "2021-01-23 21:06:33.840151 1824 (0.1)\n",
            "\n",
            "    2021-01-23 21:06:33.843357 kfold\n",
            "      Misclassification =  0.5456760048721072\n",
            "\n",
            "    2021-01-23 21:06:40.779014 kfold\n",
            "      Misclassification =  0.5724725943970768\n",
            "\n",
            "    2021-01-23 21:06:47.977681 kfold\n",
            "      Misclassification =  0.32034104750304504\n",
            "\n",
            "    2021-01-23 21:06:53.139337 kfold\n",
            "      Misclassification =  0.5646341463414635\n",
            "\n",
            "    2021-01-23 21:06:58.662168 kfold\n",
            "      Misclassification =  0.5109756097560976\n",
            "   mean= 0.502819880573958\n",
            "   stddev= 0.10473083574403244\n",
            "2021-01-23 21:07:05.041759 4560 (0.25)\n",
            "\n",
            "    2021-01-23 21:07:05.044926 kfold\n",
            "      Misclassification =  0.5468940316686968\n",
            "\n",
            "    2021-01-23 21:07:22.287256 kfold\n",
            "      Misclassification =  0.5420219244823385\n",
            "\n",
            "    2021-01-23 21:07:39.124083 kfold\n",
            "      Misclassification =  0.3386114494518879\n",
            "\n",
            "    2021-01-23 21:07:51.120767 kfold\n",
            "      Misclassification =  0.5463414634146342\n",
            "\n",
            "    2021-01-23 21:08:04.704871 kfold\n",
            "      Misclassification =  0.5170731707317073\n",
            "   mean= 0.498188407949853\n",
            "   stddev= 0.09004689285703832\n",
            "2021-01-23 21:08:18.488559 9120 (0.5)\n",
            "\n",
            "    2021-01-23 21:08:18.491003 kfold\n",
            "      Misclassification =  0.5627283800243605\n",
            "\n",
            "    2021-01-23 21:08:49.258309 kfold\n",
            "      Misclassification =  0.5688185140073081\n",
            "\n",
            "    2021-01-23 21:09:20.494048 kfold\n",
            "      Misclassification =  0.3361753958587089\n",
            "\n",
            "    2021-01-23 21:09:42.732816 kfold\n",
            "      Misclassification =  0.5487804878048781\n",
            "\n",
            "    2021-01-23 21:10:10.216422 kfold\n",
            "      Misclassification =  0.501219512195122\n",
            "   mean= 0.5035444579780755\n",
            "   stddev= 0.09724652402706944\n",
            "2021-01-23 21:10:36.232558 13680 (0.75)\n",
            "\n",
            "    2021-01-23 21:10:36.235409 kfold\n",
            "      Misclassification =  0.5298416565164434\n",
            "\n",
            "    2021-01-23 21:11:21.500947 kfold\n",
            "      Misclassification =  0.5505481120584652\n",
            "\n",
            "    2021-01-23 21:12:05.391065 kfold\n",
            "      Misclassification =  0.35079171741778314\n",
            "\n",
            "    2021-01-23 21:12:38.103240 kfold\n",
            "      Misclassification =  0.5134146341463415\n",
            "\n",
            "    2021-01-23 21:13:17.034884 kfold\n"
          ],
          "name": "stdout"
        }
      ]
    },
    {
      "cell_type": "code",
      "metadata": {
        "id": "f06nlBZuAhFL"
      },
      "source": [
        ""
      ],
      "execution_count": null,
      "outputs": []
    },
    {
      "cell_type": "markdown",
      "metadata": {
        "id": "grIOyQrr09X6"
      },
      "source": [
        "# General Functions"
      ]
    },
    {
      "cell_type": "markdown",
      "metadata": {
        "id": "W7UVsgZc1asV"
      },
      "source": [
        "## run models"
      ]
    },
    {
      "cell_type": "code",
      "metadata": {
        "id": "9yZuhKu402iB"
      },
      "source": [
        "def trainLogReg(X, y, C):\r\n",
        "    model = LogisticRegression(penalty=\"l2\", C=C)"
      ],
      "execution_count": null,
      "outputs": []
    },
    {
      "cell_type": "markdown",
      "metadata": {
        "id": "OSUVrR9X03k_"
      },
      "source": [
        "# Run Voted_Up"
      ]
    },
    {
      "cell_type": "code",
      "metadata": {
        "colab": {
          "base_uri": "https://localhost:8080/"
        },
        "id": "MjvyFr-P306U",
        "outputId": "c6b17570-3c6c-4383-8244-caf2e2f9e625"
      },
      "source": [
        ""
      ],
      "execution_count": null,
      "outputs": [
        {
          "output_type": "stream",
          "text": [
            "/content/drive/MyDrive/4th_Year/ML_final_assignment/results/voted_up_23_16_05_59.txt\n",
            "\n",
            "\n",
            "        2021-01-23 16:05:59.491074 : LogisticRegression voted_up\n",
            "Tokens 1: C value CC --     2021-01-23 16:06:05.524425 dataframe to numpy array (4791, 6252)\n",
            "      2021-01-23 16:06:06.999792 done 1000\n",
            "      2021-01-23 16:06:08.500665 done 2000\n",
            "      2021-01-23 16:06:10.000960 done 3000\n",
            "      2021-01-23 16:06:11.516687 done 4000\n",
            "      2021-01-23 16:06:13.111979 done 5000\n",
            "      2021-01-23 16:06:14.688132 done 6000\n",
            "    2021-01-23 16:06:15.095580 finished numpyfying\n",
            "    x.shape: (4791, 6252) -- y_voted: (4791,) -- y_access: (4791,) \n",
            "\n",
            "[[  10.92684516   10.41597967 1002.53804348 ...    0.\n",
            "     0.            0.        ]] \n",
            " [[  0.           0.           0.         ...   0.           0.\n",
            "    0.        ]\n",
            " [  0.           0.           0.         ...   0.           0.\n",
            "    0.        ]\n",
            " [  0.           0.           0.         ...   0.           0.\n",
            "    0.        ]\n",
            " ...\n",
            " [  0.           0.56302593   0.         ... 216.76498237 216.76498237\n",
            "  216.76498237]\n",
            " [  0.           0.           0.         ...   0.           0.\n",
            "    0.        ]\n",
            " [  0.           0.           0.         ...   0.           0.\n",
            "    0.        ]]\n",
            "(4791, 6252)\n",
            "2021-01-23 16:06:15.104991 0.001\n",
            "\n",
            "    2021-01-23 16:06:15.109150 kfold\n",
            "      Misclassification =  0.4775808133472367\n",
            "\n",
            "    2021-01-23 16:07:32.151186 kfold\n",
            "      Misclassification =  0.4530271398747391\n",
            "\n",
            "    2021-01-23 16:09:49.519920 kfold\n",
            "      Misclassification =  0.3475991649269311\n",
            "\n",
            "    2021-01-23 16:12:01.644920 kfold\n",
            "      Misclassification =  0.3935281837160751\n",
            "\n",
            "    2021-01-23 16:13:12.519588 kfold\n",
            "      Misclassification =  0.40814196242171186\n",
            "   mean= 0.4159754528573387\n",
            "   stddev= 0.05101129327750146\n",
            "2021-01-23 16:13:56.596378 0.01\n",
            "\n",
            "    2021-01-23 16:13:56.599463 kfold\n"
          ],
          "name": "stdout"
        }
      ]
    },
    {
      "cell_type": "markdown",
      "metadata": {
        "id": "-v4k9eZH1CDC"
      },
      "source": [
        "# Run Early_Access"
      ]
    }
  ]
}
